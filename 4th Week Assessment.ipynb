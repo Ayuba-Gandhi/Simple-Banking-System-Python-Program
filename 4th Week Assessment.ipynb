{
 "cells": [
  {
   "cell_type": "code",
   "execution_count": 7,
   "id": "205181d8",
   "metadata": {},
   "outputs": [
    {
     "name": "stdout",
     "output_type": "stream",
     "text": [
      "Enter amount to be deposited: 5000\n",
      "$5000.0 has been deposited in your account. Your balance is $55000.0\n",
      "Enter amount to be withdrawn: 34000\n",
      "$34000.0 has been debited from your account. Your current balance is $21000.0\n",
      "Your current balance is $21000.0:\n",
      "Your current balance is $5000:\n",
      "interest of: $20.0 has been added. Current balance: 5020.0\n",
      "Your current balance is $5020.0:\n",
      "Enter loan amount: 60000\n",
      "Your payment of 60000.0 has been deducted from your loan account. Your remaining balance is: $40000.0\n",
      "Monthly payment $14047.61904761905\n"
     ]
    }
   ],
   "source": [
    "#  A Python program that models a simple banking system using object-oriented programming concepts\n",
    "class BankAccount:\n",
    "    def __init__(self, accountHolderName, accountNumber,  balance):\n",
    "        self.accountHolderName = accountHolderName\n",
    "        self.accountNumber = accountNumber\n",
    "        self.balance = balance\n",
    "        \n",
    "    def deposit(self):\n",
    "        amount = float(input(\"Enter amount to be deposited: \"))\n",
    "        if amount <= 0:\n",
    "            print(\"Amount too small to be deposited\")\n",
    "        else:\n",
    "            self.balance += amount\n",
    "            print(\"${} has been deposited in your account. Your balance is ${}\".format(amount, self.balance))\n",
    "    def withdraw(self):\n",
    "        amount = float(input(\"Enter amount to be withdrawn: \"))\n",
    "        if amount > 0 and amount <= self.balance:\n",
    "            self.balance -= amount\n",
    "            print(\"${} has been debited from your account. Your current balance is ${}\".format(amount, self.balance))\n",
    "        else:\n",
    "            print(\"Insufficient balance\")\n",
    "            \n",
    "    def display(self):\n",
    "        print(\"Your current balance is ${}:\".format(self.balance))\n",
    "        \n",
    "\n",
    "class SavingsAccount(BankAccount):\n",
    "    def __init__(self, accountNumber, accountHolderName, balance, interest_rate):\n",
    "        super().__init__(accountNumber, accountHolderName, balance)\n",
    "        self.interest_rate = interest_rate / 100  \n",
    "\n",
    "    def calculate_interest(self):\n",
    "        interest = self.balance * self.interest_rate\n",
    "        self.balance += interest\n",
    "        print(\"interest of: ${} has been added. Current balance: {}\".format(interest, self.balance))\n",
    "\n",
    "class LoanAccount:\n",
    "    def __init__(self, loan_amount, interest_rate, repayment_period):\n",
    "        self.loan_amount = loan_amount\n",
    "        self.interest_rate = interest_rate\n",
    "        self.repayment_period = repayment_period\n",
    "        self.balance = loan_amount\n",
    "        \n",
    "    def make_repayment(self):\n",
    "        amount = float(input(\"Enter loan amount: \"))\n",
    "        if amount > 0:\n",
    "            self.balance -= amount\n",
    "            print(\"Your payment of {} has been deducted from your loan account. Your remaining balance is: ${}\".format(amount, self.balance))    \n",
    "        else:\n",
    "            print(\"Insufficient funds or invalid loan_amount\")\n",
    "        \n",
    "    \n",
    "    def calculate_monthlyInstallmentAmount(self):\n",
    "        monthly_interest = self.balance * (self.interest_rate/12)\n",
    "        monthly_installement = self.balance / self.repayment_period + monthly_interest\n",
    "        print(\"Monthly payment ${}\".format(monthly_installement))\n",
    "        \n",
    "        \n",
    "        \n",
    "        \n",
    "\n",
    "# Creating instances and demonstrating functionality\n",
    "\n",
    "newTransaction = BankAccount(\"123456789\", \"Ruth\", 50000)\n",
    "newTransaction.deposit()\n",
    "newTransaction.withdraw()\n",
    "newTransaction.display()\n",
    "\n",
    "savings_acct = SavingsAccount(\"123456789\", \"Ruth\", 5000, interest_rate = 0.4)\n",
    "savings_acct.display()\n",
    "savings_acct.calculate_interest()\n",
    "savings_acct.display()\n",
    "\n",
    "loan_acct = LoanAccount(100000, 2.5, 7)\n",
    "loan_acct.make_repayment()\n",
    "loan_acct.calculate_monthlyInstallmentAmount()"
   ]
  },
  {
   "cell_type": "code",
   "execution_count": 10,
   "id": "3abd2600",
   "metadata": {},
   "outputs": [
    {
     "name": "stdout",
     "output_type": "stream",
     "text": [
      "Enter amount to be withdrawn: 7500\n",
      "$7500.0 has been debited from your account. Your current balance is $44800.0\n"
     ]
    }
   ],
   "source": [
    "newTransaction.withdraw()"
   ]
  },
  {
   "cell_type": "code",
   "execution_count": 11,
   "id": "e7a52a42",
   "metadata": {},
   "outputs": [
    {
     "name": "stdout",
     "output_type": "stream",
     "text": [
      "Your current balance is $44800.0:\n"
     ]
    }
   ],
   "source": [
    "newTransaction.display()"
   ]
  },
  {
   "cell_type": "code",
   "execution_count": null,
   "id": "538c12c8",
   "metadata": {},
   "outputs": [],
   "source": []
  }
 ],
 "metadata": {
  "kernelspec": {
   "display_name": "Python 3 (ipykernel)",
   "language": "python",
   "name": "python3"
  },
  "language_info": {
   "codemirror_mode": {
    "name": "ipython",
    "version": 3
   },
   "file_extension": ".py",
   "mimetype": "text/x-python",
   "name": "python",
   "nbconvert_exporter": "python",
   "pygments_lexer": "ipython3",
   "version": "3.11.5"
  }
 },
 "nbformat": 4,
 "nbformat_minor": 5
}
